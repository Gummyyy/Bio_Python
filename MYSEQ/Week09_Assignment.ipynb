{
  "nbformat": 4,
  "nbformat_minor": 5,
  "metadata": {
    "kernelspec": {
      "name": "python3",
      "display_name": "Python 3.9.6 64-bit"
    },
    "language_info": {
      "codemirror_mode": {
        "name": "ipython",
        "version": 3
      },
      "file_extension": ".py",
      "mimetype": "text/x-python",
      "name": "python",
      "nbconvert_exporter": "python",
      "pygments_lexer": "ipython3",
      "version": "3.9.6"
    },
    "colab": {
      "name": "Week09_Assignment.ipynb",
      "provenance": []
    },
    "interpreter": {
      "hash": "aee8b7b246df8f9039afb4144a1f6fd8d2ca17a180786b69acc140d282b71a49"
    }
  },
  "cells": [
    {
      "cell_type": "markdown",
      "source": [
        "# Week09 assignment"
      ],
      "metadata": {
        "id": "cfb0a872-c943-4b86-a37b-5fbf0355cdba"
      }
    },
    {
      "cell_type": "markdown",
      "source": [
        "1 ) Please complete a Python program \"myseq\" and reproduce the following Output. You'll have to add more codes to get it to operate. The final version of your program should be push to your GitHub repository. You will need to provide GitHub link in the assignment answer. (10 points)"
      ],
      "metadata": {
        "id": "08db1929-a1aa-453a-94da-bc9582c24abc"
      }
    },
    {
      "cell_type": "markdown",
      "source": [
        "#### Hint:\n",
        "```python\n",
        "import re\n",
        "\n",
        "# SeqCal module\n",
        "def gcContent(seq):\n",
        "    # G+C/(A+T+G+C)\n",
        "    return (countBase(seq, 'G') + countBase(seq, 'C'))/len(seq)\n",
        "\n",
        "def atContent(seq):\n",
        "    # A+T/(A+T+G+C)\n",
        "    return (countBase(seq, 'A') + countBase(seq, 'T'))/len(seq)\n",
        "\n",
        "def countBase(seq, base):\n",
        "    return seq.count(base.upper())\n",
        "\n",
        "def countBasesDict(seq):\n",
        "    basesM = {}\n",
        "    for base in seq:\n",
        "        basesM[base] = basesM.get(base, 0)+1\n",
        "    return basesM\n",
        "\n",
        "# SeqPattern module\n",
        "def cpgSearch(seq):\n",
        "    cpgs = []\n",
        "    for m in re.finditer(r'CG', seq, re.I):\n",
        "        cpgs.append((m.group(), m.start(), m.end()))\n",
        "    return cpgs\n",
        "\n",
        "def enzTargetsScan(seq, enz):\n",
        "    resEnzyme = dict(EcoRI='GAATTC', BamHI='GGATCC', \n",
        "                 HindIII='AAGCTT',AccB2I='[AG]GCGC[CT]',\n",
        "                 AasI='GAC[ATCG][ATCG][ATCG][ATCG][ATCG][ATCG]GTC',\n",
        "                 AceI='GC[AT]GC')\n",
        "    \n",
        "    out = []\n",
        "    if enz in resEnzyme:\n",
        "        for m in re.finditer(resEnzyme.get(enz,),seq):\n",
        "            out.append((m.group(0),m.start(),m.end()))\n",
        "    return out\n",
        "\n",
        "def reverseSeq(seq):\n",
        "    return seq[::-1]\n",
        "\n",
        "def complementSeq(seq):\n",
        "    compl = {\"A\": \"T\", \"T\": \"A\",\n",
        "             \"G\": \"C\", \"C\": \"G\"}\n",
        "    complementary = \"\".join([ compl[base] for base in seq ])\n",
        "    return complementary\n",
        "\n",
        "def reverseComplementSeq(seq):\n",
        "    revComp = complementSeq(reverseSeq(seq))\n",
        "    return revComp\n",
        "\n",
        "def dna2rna(seq):\n",
        "    return seq.replace(\"T\",\"U\")\n",
        "\n",
        "def dna2protein(seq):\n",
        "    DNA_Codons = loadCodons()\n",
        "    protein = \"\"\n",
        "    for i in range(0,len(seq),3):\n",
        "        dna = seq[i:i+3]\n",
        "        protein += DNA_Codons.get(dna, \"\")\n",
        "    return protein\n",
        "\n",
        "def loadCodons():\n",
        "    DNA_Codons = {\n",
        "        # 'M' - START, '_' - STOP\n",
        "        \"GCT\": \"A\", \"GCC\": \"A\", \"GCA\": \"A\", \"GCG\": \"A\",\n",
        "        \"TGT\": \"C\", \"TGC\": \"C\",\n",
        "        \"GAT\": \"D\", \"GAC\": \"D\",\n",
        "        \"GAA\": \"E\", \"GAG\": \"E\",\n",
        "        \"TTT\": \"F\", \"TTC\": \"F\",\n",
        "        \"GGT\": \"G\", \"GGC\": \"G\", \"GGA\": \"G\", \"GGG\": \"G\",\n",
        "        \"CAT\": \"H\", \"CAC\": \"H\",\n",
        "        \"ATA\": \"I\", \"ATT\": \"I\", \"ATC\": \"I\",\n",
        "        \"AAA\": \"K\", \"AAG\": \"K\",\n",
        "        \"TTA\": \"L\", \"TTG\": \"L\", \"CTT\": \"L\", \"CTC\": \"L\", \"CTA\": \"L\", \"CTG\": \"L\",\n",
        "        \"ATG\": \"M\",\n",
        "        \"AAT\": \"N\", \"AAC\": \"N\",\n",
        "        \"CCT\": \"P\", \"CCC\": \"P\", \"CCA\": \"P\", \"CCG\": \"P\",\n",
        "        \"CAA\": \"Q\", \"CAG\": \"Q\",\n",
        "        \"CGT\": \"R\", \"CGC\": \"R\", \"CGA\": \"R\", \"CGG\": \"R\", \"AGA\": \"R\", \"AGG\": \"R\",\n",
        "        \"TCT\": \"S\", \"TCC\": \"S\", \"TCA\": \"S\", \"TCG\": \"S\", \"AGT\": \"S\", \"AGC\": \"S\",\n",
        "        \"ACT\": \"T\", \"ACC\": \"T\", \"ACA\": \"T\", \"ACG\": \"T\",\n",
        "        \"GTT\": \"V\", \"GTC\": \"V\", \"GTA\": \"V\", \"GTG\": \"V\",\n",
        "        \"TGG\": \"W\",\n",
        "        \"TAT\": \"Y\", \"TAC\": \"Y\",\n",
        "        \"TAA\": \"_\", \"TAG\": \"_\", \"TGA\": \"_\"\n",
        "    }\n",
        "    return DNA_Codons\n",
        "\n",
        "# Input\n",
        "seq = 'ATGGGccGTAGAATTCTTGCaaGCCCGT'\n",
        "seq = seq.upper()\n",
        "print(\"Transcription: \", dna2rna(seq))\n",
        "print(\"Transcription-revcomp: \", dna2rna(reverseComplementSeq(seq)))\n",
        "print(\"Translation: \", dna2protein(seq))\n",
        "print(\"Translation-revcomp: \", dna2protein(reverseComplementSeq(seq)))\n",
        "print(\"GC Content:\", gcContent(seq))\n",
        "print(\"Count Bases: \", countBasesDict(seq))\n",
        "print(\"Count Bases-revcomp: \", countBasesDict(reverseComplementSeq(seq)))\n",
        "print(\"Search EcoRI: \", enzTargetsScan(seq, 'EcoRI'))\n",
        "print(\"Search EcoRI-revcomp: \", enzTargetsScan(reverseComplementSeq(seq), 'EcoRI'))\n",
        "\n",
        "```"
      ],
      "metadata": {
        "id": "5126f8c5-5dda-43f8-85c9-9b63aad37ae6"
      }
    },
    {
      "cell_type": "markdown",
      "source": [
        "#### Hint:\n",
        "<img src=myseq_files.png style=\"height:400px\">\n"
      ],
      "metadata": {
        "id": "1ead540d-734f-4153-9b4d-b11516757542"
      }
    },
    {
      "cell_type": "markdown",
      "source": [
        "## Output examples"
      ],
      "metadata": {
        "id": "cd68b951-d66e-4394-8d32-295583eb7162"
      }
    },
    {
      "cell_type": "code",
      "execution_count": null,
      "source": [
        "%%bash\n",
        "./myseq -h"
      ],
      "outputs": [
        {
          "output_type": "stream",
          "name": "stdout",
          "text": [
            "usage: myseq [-h]\n",
            "             {gcContent,countBases,transcription,translation,enzTargetsScan}\n",
            "             ...\n",
            "\n",
            "Work with sequence\n",
            "\n",
            "optional arguments:\n",
            "  -h, --help            show this help message and exit\n",
            "\n",
            "commands:\n",
            "  Please choose command below:\n",
            "\n",
            "  {gcContent,countBases,transcription,translation,enzTargetsScan}\n",
            "    gcContent           Calculate GC content\n",
            "    countBases          Count number of each base\n",
            "    transcription       Convert DNA->RNA\n",
            "    translation         Convert DNA->Protein\n",
            "    enzTargetsScan      Find restriction enzyme\n"
          ]
        }
      ],
      "metadata": {
        "id": "6eadbd89-4cba-454d-9cf6-3202cc4b4f42",
        "outputId": "3b30805d-5cdb-4f50-ce37-9b82bc256df7"
      }
    },
    {
      "cell_type": "code",
      "execution_count": 1,
      "source": [
        "%%bash\n",
        "./myseq -h"
      ],
      "outputs": [
        {
          "output_type": "stream",
          "name": "stdout",
          "text": [
            "usage: myseq [-h]\n",
            "             {gcContent,countBases,transcription,translation,enzTargetsScan}\n",
            "             ...\n",
            "\n",
            "Work with sequence\n",
            "\n",
            "optional arguments:\n",
            "  -h, --help            show this help message and exit\n",
            "\n",
            "commands:\n",
            "  Please choose command below:\n",
            "\n",
            "  {gcContent,countBases,transcription,translation,enzTargetsScan}\n",
            "    gcContent           Calculate GC content\n",
            "    countBases          Count number of each base\n",
            "    transcription       Convert DNA->RNA\n",
            "    translation         Convert DNA->Protein\n",
            "    enzTargetsScan      Find restriction enzyme\n"
          ]
        }
      ],
      "metadata": {}
    },
    {
      "cell_type": "code",
      "execution_count": null,
      "source": [
        "%%bash\n",
        "./myseq gcContent -h"
      ],
      "outputs": [
        {
          "output_type": "stream",
          "name": "stdout",
          "text": [
            "usage: myseq gcContent [-h] [-s SEQ]\n",
            "\n",
            "optional arguments:\n",
            "  -h, --help         show this help message and exit\n",
            "  -s SEQ, --seq SEQ  Provide sequence\n"
          ]
        }
      ],
      "metadata": {
        "id": "5a4f42da-5bfc-4214-804d-ac1f6472be7e",
        "outputId": "b2ebb6a4-98f3-49d0-c58b-d9e50780f32b"
      }
    },
    {
      "cell_type": "code",
      "execution_count": 2,
      "source": [
        "%%bash\n",
        "./myseq gcContent -h"
      ],
      "outputs": [
        {
          "output_type": "stream",
          "name": "stdout",
          "text": [
            "usage: myseq gcContent [-h] [-s SEQ]\n",
            "\n",
            "optional arguments:\n",
            "  -h, --help         show this help message and exit\n",
            "  -s SEQ, --seq SEQ  Provide Sequence\n"
          ]
        }
      ],
      "metadata": {}
    },
    {
      "cell_type": "code",
      "execution_count": null,
      "source": [
        "%%bash\n",
        "./myseq countBases -h"
      ],
      "outputs": [
        {
          "output_type": "stream",
          "name": "stdout",
          "text": [
            "usage: myseq countBases [-h] [-s SEQ] [-r]\n",
            "\n",
            "optional arguments:\n",
            "  -h, --help         show this help message and exit\n",
            "  -s SEQ, --seq SEQ  Provide sequence\n",
            "  -r, --revcomp      Convet DNA to reverse-complementary\n"
          ]
        }
      ],
      "metadata": {
        "id": "d258aeb4-5dbf-4c99-80f5-48098a1d0c9c",
        "outputId": "10b5a3d9-c617-4fc5-d2e6-72d7f813019f"
      }
    },
    {
      "cell_type": "code",
      "execution_count": 3,
      "source": [
        "%%bash\n",
        "./myseq countBases -h"
      ],
      "outputs": [
        {
          "output_type": "stream",
          "name": "stdout",
          "text": [
            "usage: myseq countBases [-h] [-s SEQ] [-r]\n",
            "\n",
            "optional arguments:\n",
            "  -h, --help         show this help message and exit\n",
            "  -s SEQ, --seq SEQ  Provide Sequence\n",
            "  -r, --revcomp      Convert DNA to reverse-complementary\n"
          ]
        }
      ],
      "metadata": {}
    },
    {
      "cell_type": "code",
      "execution_count": null,
      "source": [
        "%%bash\n",
        "./myseq enzTargetsScan -h"
      ],
      "outputs": [
        {
          "output_type": "stream",
          "name": "stdout",
          "text": [
            "usage: myseq enzTargetsScan [-h] [-s SEQ] [-e ENZ] [-r]\n",
            "\n",
            "optional arguments:\n",
            "  -h, --help         show this help message and exit\n",
            "  -s SEQ, --seq SEQ  Provide sequence\n",
            "  -e ENZ, --enz ENZ  Enzyme name\n",
            "  -r, --revcomp      Convet DNA to reverse-complementary\n"
          ]
        }
      ],
      "metadata": {
        "id": "486470e2-c569-48c8-9389-4d80d34fe09d",
        "outputId": "d76485b0-fc73-4ebf-9892-c95a0716a98b"
      }
    },
    {
      "cell_type": "code",
      "execution_count": 4,
      "source": [
        "%%bash\n",
        "./myseq enzTargetsScan -h"
      ],
      "outputs": [
        {
          "output_type": "stream",
          "name": "stdout",
          "text": [
            "usage: myseq enzTargetsScan [-h] [-s SEQ] [-e ENZ] [-r]\n",
            "\n",
            "optional arguments:\n",
            "  -h, --help         show this help message and exit\n",
            "  -s SEQ, --seq SEQ  Provide Sequence\n",
            "  -e ENZ, --enz ENZ  Enzyme name\n",
            "  -r, --revcomp      Convert DNA to reverse-complementary\n"
          ]
        }
      ],
      "metadata": {}
    },
    {
      "cell_type": "code",
      "execution_count": null,
      "source": [
        "%%bash\n",
        "./myseq transcription -h"
      ],
      "outputs": [
        {
          "output_type": "stream",
          "name": "stdout",
          "text": [
            "usage: myseq transcription [-h] [-s SEQ] [-r]\n",
            "\n",
            "optional arguments:\n",
            "  -h, --help         show this help message and exit\n",
            "  -s SEQ, --seq SEQ  Provide sequence\n",
            "  -r, --revcomp      Convet DNA to reverse-complementary\n"
          ]
        }
      ],
      "metadata": {
        "id": "3dae880e-548f-4ce0-86a3-d4b7489a9eac",
        "outputId": "daf48f45-4c99-4065-d988-0f650a12be10"
      }
    },
    {
      "cell_type": "code",
      "execution_count": 5,
      "source": [
        "%%bash\n",
        "./myseq transcription -h"
      ],
      "outputs": [
        {
          "output_type": "stream",
          "name": "stdout",
          "text": [
            "usage: myseq transcription [-h] [-s SEQ] [-r]\n",
            "\n",
            "optional arguments:\n",
            "  -h, --help         show this help message and exit\n",
            "  -s SEQ, --seq SEQ  Provide Sequence\n",
            "  -r, --revcomp      Convert DNA to reverse-complementary\n"
          ]
        }
      ],
      "metadata": {}
    },
    {
      "cell_type": "code",
      "execution_count": null,
      "source": [
        "%%bash\n",
        "./myseq translation -h"
      ],
      "outputs": [
        {
          "output_type": "stream",
          "name": "stdout",
          "text": [
            "usage: myseq translation [-h] [-s SEQ] [-r]\n",
            "\n",
            "optional arguments:\n",
            "  -h, --help         show this help message and exit\n",
            "  -s SEQ, --seq SEQ  Provide sequence\n",
            "  -r, --revcomp      Convet DNA to reverse-complementary\n"
          ]
        }
      ],
      "metadata": {
        "id": "5124af37-28fc-4898-9c41-3b978831085f",
        "outputId": "9bcbd14c-ab46-4daf-c9c0-124e25dace89"
      }
    },
    {
      "cell_type": "code",
      "execution_count": 6,
      "source": [
        "%%bash\n",
        "./myseq translation -h"
      ],
      "outputs": [
        {
          "output_type": "stream",
          "name": "stdout",
          "text": [
            "usage: myseq translation [-h] [-s SEQ] [-r]\n",
            "\n",
            "optional arguments:\n",
            "  -h, --help         show this help message and exit\n",
            "  -s SEQ, --seq SEQ  Provide Sequence\n",
            "  -r, --revcomp      Convert DNA to reverse-complementary\n"
          ]
        }
      ],
      "metadata": {}
    },
    {
      "cell_type": "code",
      "execution_count": null,
      "source": [
        "%%bash\n",
        "./myseq transcription --seq ATGGGccGTAGAATTCTTGCaaGCCCGT"
      ],
      "outputs": [
        {
          "output_type": "stream",
          "name": "stdout",
          "text": [
            "Input ATGGGccGTAGAATTCTTGCaaGCCCGT \n",
            "Transcription = AUGGGCCGUAGAAUUCUUGCAAGCCCGU\n"
          ]
        }
      ],
      "metadata": {
        "id": "81e2f059-69e4-464a-8847-c97971966522",
        "outputId": "1efd2be7-51bf-41a2-9ca3-fff3984f22ed"
      }
    },
    {
      "cell_type": "code",
      "execution_count": 7,
      "source": [
        "%%bash\n",
        "./myseq transcription --seq ATGGGccGTAGAATTCTTGCaaGCCCGT"
      ],
      "outputs": [
        {
          "output_type": "stream",
          "name": "stdout",
          "text": [
            "Input ATGGGccGTAGAATTCTTGCaaGCCCGT\n",
            "Transcription: AUGGGCCGUAGAAUUCUUGCAAGCCCGU\n"
          ]
        }
      ],
      "metadata": {}
    },
    {
      "cell_type": "code",
      "execution_count": null,
      "source": [
        "%%bash\n",
        "./myseq transcription --seq ATGGGccGTAGAATTCTTGCaaGCCCGT --revcomp"
      ],
      "outputs": [
        {
          "output_type": "stream",
          "name": "stdout",
          "text": [
            "Input ATGGGccGTAGAATTCTTGCaaGCCCGT \n",
            "Transcription = ACGGGCUUGCAAGAAUUCUACGGCCCAU\n"
          ]
        }
      ],
      "metadata": {
        "id": "cfb4c340-d208-494b-b5fd-99017e6a08a4",
        "outputId": "1db18131-6e16-420d-de24-ae20591111f4"
      }
    },
    {
      "cell_type": "code",
      "execution_count": 10,
      "source": [
        "%%bash\n",
        "./myseq transcription --seq ATGGGccGTAGAATTCTTGCaaGCCCGT --revcomp"
      ],
      "outputs": [
        {
          "output_type": "stream",
          "name": "stdout",
          "text": [
            "Input ATGGGccGTAGAATTCTTGCaaGCCCGT\n",
            "Transcription = ACGGGCUUGCAAGAAUUCUACGGCCCAU\n"
          ]
        }
      ],
      "metadata": {}
    },
    {
      "cell_type": "code",
      "execution_count": null,
      "source": [
        "%%bash\n",
        "./myseq translation --seq ATGGGccGTAGAATTCTTGCaaGCCCGT"
      ],
      "outputs": [
        {
          "output_type": "stream",
          "name": "stdout",
          "text": [
            "Input ATGGGccGTAGAATTCTTGCaaGCCCGT \n",
            "Translation = MGRRILASP\n"
          ]
        }
      ],
      "metadata": {
        "id": "52dc5b77-9ea3-47b1-bc43-7a858e5245f9",
        "outputId": "8ca2108f-42aa-4fd6-a23f-0e255b824d8f"
      }
    },
    {
      "cell_type": "code",
      "execution_count": 11,
      "source": [
        "%%bash\n",
        "./myseq translation --seq ATGGGccGTAGAATTCTTGCaaGCCCGT"
      ],
      "outputs": [
        {
          "output_type": "stream",
          "name": "stdout",
          "text": [
            "Input ATGGGccGTAGAATTCTTGCaaGCCCGT\n",
            "Translation = MGRRILASP\n"
          ]
        }
      ],
      "metadata": {}
    },
    {
      "cell_type": "code",
      "execution_count": null,
      "source": [
        "%%bash\n",
        "./myseq translation --seq ATGGGccGTAGAATTCTTGCaaGCCCGT --revcomp"
      ],
      "outputs": [
        {
          "output_type": "stream",
          "name": "stdout",
          "text": [
            "Input ATGGGccGTAGAATTCTTGCaaGCCCGT \n",
            "Translation = TGLQEFYGP\n"
          ]
        }
      ],
      "metadata": {
        "id": "a5f7b21c-338a-4632-8896-3cf3a17fad25",
        "outputId": "534fa2ca-d673-4b76-bc27-f7b57cc77e53"
      }
    },
    {
      "cell_type": "code",
      "execution_count": 12,
      "source": [
        "%%bash\n",
        "./myseq translation --seq ATGGGccGTAGAATTCTTGCaaGCCCGT --revcomp"
      ],
      "outputs": [
        {
          "output_type": "stream",
          "name": "stdout",
          "text": [
            "Input ATGGGccGTAGAATTCTTGCaaGCCCGT\n",
            "Translation = TGLQEFYGP\n"
          ]
        }
      ],
      "metadata": {}
    },
    {
      "cell_type": "code",
      "execution_count": null,
      "source": [
        "%%bash\n",
        "./myseq gcContent --seq ATGGGccGTAGAATTCTTGCaaGCCCGT"
      ],
      "outputs": [
        {
          "output_type": "stream",
          "name": "stdout",
          "text": [
            "Input ATGGGccGTAGAATTCTTGCaaGCCCGT \n",
            "GC content = 0.5357142857142857\n"
          ]
        }
      ],
      "metadata": {
        "id": "1c8ec0ca-e1c8-46f1-9b22-33f236c01d69",
        "outputId": "1d9a50e0-5edb-4bcd-89a0-f257bd57ee3e"
      }
    },
    {
      "cell_type": "code",
      "execution_count": 13,
      "source": [
        "%%bash\n",
        "./myseq gcContent --seq ATGGGccGTAGAATTCTTGCaaGCCCGT"
      ],
      "outputs": [
        {
          "output_type": "stream",
          "name": "stdout",
          "text": [
            "Input ATGGGccGTAGAATTCTTGCaaGCCCGT\n",
            "GC content = 0.5357142857142857\n"
          ]
        }
      ],
      "metadata": {}
    },
    {
      "cell_type": "code",
      "execution_count": null,
      "source": [
        "%%bash\n",
        "./myseq countBases --seq ATGGGccGTAGAATTCTTGCaaGCCCGT"
      ],
      "outputs": [
        {
          "output_type": "stream",
          "name": "stdout",
          "text": [
            "Input ATGGGccGTAGAATTCTTGCaaGCCCGT \n",
            "countBases = {'A': 6, 'T': 7, 'G': 8, 'C': 7}\n"
          ]
        }
      ],
      "metadata": {
        "id": "64e93ca2-4ba0-4266-bc8e-fe431f37822c",
        "outputId": "ad0ef72e-66f0-4ef8-a780-6dee4d292eab"
      }
    },
    {
      "cell_type": "code",
      "execution_count": 14,
      "source": [
        "%%bash\n",
        "./myseq countBases --seq ATGGGccGTAGAATTCTTGCaaGCCCGT"
      ],
      "outputs": [
        {
          "output_type": "stream",
          "name": "stdout",
          "text": [
            "Input ATGGGccGTAGAATTCTTGCaaGCCCGT\n",
            "Count Bases = {'A': 6, 'T': 7, 'G': 8, 'C': 7}\n"
          ]
        }
      ],
      "metadata": {}
    },
    {
      "cell_type": "code",
      "execution_count": null,
      "source": [
        "%%bash\n",
        "./myseq countBases --seq ATGGGccGTAGAATTCTTGCaaGCCCGT -r"
      ],
      "outputs": [
        {
          "output_type": "stream",
          "name": "stdout",
          "text": [
            "Input ATGGGccGTAGAATTCTTGCaaGCCCGT \n",
            "countBases = {'A': 7, 'C': 8, 'G': 7, 'T': 6}\n"
          ]
        }
      ],
      "metadata": {
        "id": "bf7a02a4-89f4-4e6e-8088-b7ff1a90a4ba",
        "outputId": "5fe24c0e-f589-42fe-f2fb-895235d49fff"
      }
    },
    {
      "cell_type": "code",
      "execution_count": 15,
      "source": [
        "%%bash\n",
        "./myseq countBases --seq ATGGGccGTAGAATTCTTGCaaGCCCGT -r"
      ],
      "outputs": [
        {
          "output_type": "stream",
          "name": "stdout",
          "text": [
            "Input ATGGGccGTAGAATTCTTGCaaGCCCGT\n",
            "Count Bases = {'A': 7, 'C': 8, 'G': 7, 'T': 6}\n"
          ]
        }
      ],
      "metadata": {}
    },
    {
      "cell_type": "code",
      "execution_count": null,
      "source": [
        "%%bash\n",
        "./myseq enzTargetsScan --seq ATGGGccGTAGAATTCTTGCaaGCCCGT -e EcoRI"
      ],
      "outputs": [
        {
          "output_type": "stream",
          "name": "stdout",
          "text": [
            "Input ATGGGccGTAGAATTCTTGCaaGCCCGT \n",
            "EcoRI sites = [('GAATTC', 10, 16)]\n"
          ]
        }
      ],
      "metadata": {
        "id": "a44e5806-a118-42cd-978b-8e3e95f62078",
        "outputId": "e413511d-a83a-42ea-e2ac-901d3afccffe"
      }
    },
    {
      "cell_type": "code",
      "execution_count": 16,
      "source": [
        "%%bash\n",
        "./myseq enzTargetsScan --seq ATGGGccGTAGAATTCTTGCaaGCCCGT -e EcoRI"
      ],
      "outputs": [
        {
          "output_type": "stream",
          "name": "stdout",
          "text": [
            "Input ATGGGccGTAGAATTCTTGCaaGCCCGT\n",
            "EcoRI sites = [('GAATTC', 10, 16)]\n"
          ]
        }
      ],
      "metadata": {}
    },
    {
      "cell_type": "code",
      "execution_count": null,
      "source": [
        "%%bash\n",
        "./myseq enzTargetsScan --seq ATGGGccGTAGAATTCTTGCaaGCCCGT -e EcoRI -r"
      ],
      "outputs": [
        {
          "output_type": "stream",
          "name": "stdout",
          "text": [
            "Input ATGGGccGTAGAATTCTTGCaaGCCCGT \n",
            "EcoRI sites = [('GAATTC', 12, 18)]\n"
          ]
        }
      ],
      "metadata": {
        "id": "b4dfaecf-24e8-48c9-b018-638488e94b88",
        "outputId": "c9c0d532-948c-423f-8391-28f279b4febf"
      }
    },
    {
      "cell_type": "code",
      "execution_count": 17,
      "source": [
        "%%bash\n",
        "./myseq enzTargetsScan --seq ATGGGccGTAGAATTCTTGCaaGCCCGT -e EcoRI -r"
      ],
      "outputs": [
        {
          "output_type": "stream",
          "name": "stdout",
          "text": [
            "Input ATGGGccGTAGAATTCTTGCaaGCCCGT\n",
            "EcoRI sites = [('GAATTC', 12, 18)]\n"
          ]
        }
      ],
      "metadata": {
        "id": "6a093428-00e0-496f-af2b-9ce15d07f5b0"
      }
    }
  ]
}